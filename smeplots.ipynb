{
  "nbformat": 4,
  "nbformat_minor": 0,
  "metadata": {
    "colab": {
      "name": "smeplots.ipynb",
      "provenance": [],
      "collapsed_sections": [],
      "authorship_tag": "ABX9TyN7cJZtH6DJEmrM1GdaJRks",
      "include_colab_link": true
    },
    "kernelspec": {
      "name": "python3",
      "display_name": "Python 3"
    }
  },
  "cells": [
    {
      "cell_type": "markdown",
      "metadata": {
        "id": "view-in-github",
        "colab_type": "text"
      },
      "source": [
        "<a href=\"https://colab.research.google.com/github/donbreo/Learn-Machine-Learning-in-3-Hours/blob/master/smeplots.ipynb\" target=\"_parent\"><img src=\"https://colab.research.google.com/assets/colab-badge.svg\" alt=\"Open In Colab\"/></a>"
      ]
    },
    {
      "cell_type": "code",
      "metadata": {
        "id": "gXXAPBfmB-pD",
        "colab_type": "code",
        "colab": {}
      },
      "source": [
        "import numpy\n",
        "import pandas as pd\n",
        "import matplotlib.pyplot as plt\n",
        "import csv\n",
        "import requests"
      ],
      "execution_count": 0,
      "outputs": []
    },
    {
      "cell_type": "code",
      "metadata": {
        "id": "m3w1X4KHhVqx",
        "colab_type": "code",
        "colab": {}
      },
      "source": [
        "def getdatacsv(stockcode,args):\n",
        "  url = ('https://www.quandl.com/api/v3/datasets/BSE/'+stockcode+'.csv?api_key=qz1RFMDVb5hEQ4qXxnUG&'+args)\n",
        "  return url"
      ],
      "execution_count": 0,
      "outputs": []
    },
    {
      "cell_type": "code",
      "metadata": {
        "id": "KmYEJCCFC1T_",
        "colab_type": "code",
        "colab": {}
      },
      "source": [
        "def sma(array,window):\n",
        "  resultarray = [0] * (window-1)\n",
        "  outerc = window-1\n",
        "  while (outerc<(len(array))):\n",
        "    innerc=outerc\n",
        "    s=0\n",
        "    limit=innerc\n",
        "    while (innerc>=(outerc-window+1)):\n",
        "      s=s+array[innerc]\n",
        "      innerc-=1\n",
        "    resultarray.append(s/window)\n",
        "    outerc+=1\n",
        "    s=0\n",
        "  return resultarray\n",
        "\n",
        "  \n",
        " \n",
        " \n",
        " \n",
        " \n",
        " ## for i in range((window-1),len(array)):\n",
        " ##   a1.append(array[i])\n",
        " ## return a1"
      ],
      "execution_count": 0,
      "outputs": []
    },
    {
      "cell_type": "code",
      "metadata": {
        "id": "jCAqFjAnCEsE",
        "colab_type": "code",
        "colab": {}
      },
      "source": [
        "d = getdatacsv('BOM532540','start_date=2019-01-01&end_date=2020-01-31')\n",
        "##print(type(d))\n",
        "data = pd.read_csv(d)"
      ],
      "execution_count": 0,
      "outputs": []
    },
    {
      "cell_type": "code",
      "metadata": {
        "id": "bRXNvb7NDt1C",
        "colab_type": "code",
        "outputId": "7b1c9e47-6055-44ce-bf0c-882e73523188",
        "colab": {
          "base_uri": "https://localhost:8080/",
          "height": 606
        }
      },
      "source": [
        "data"
      ],
      "execution_count": 5,
      "outputs": [
        {
          "output_type": "execute_result",
          "data": {
            "text/html": [
              "<div>\n",
              "<style scoped>\n",
              "    .dataframe tbody tr th:only-of-type {\n",
              "        vertical-align: middle;\n",
              "    }\n",
              "\n",
              "    .dataframe tbody tr th {\n",
              "        vertical-align: top;\n",
              "    }\n",
              "\n",
              "    .dataframe thead th {\n",
              "        text-align: right;\n",
              "    }\n",
              "</style>\n",
              "<table border=\"1\" class=\"dataframe\">\n",
              "  <thead>\n",
              "    <tr style=\"text-align: right;\">\n",
              "      <th></th>\n",
              "      <th>Date</th>\n",
              "      <th>Open</th>\n",
              "      <th>High</th>\n",
              "      <th>Low</th>\n",
              "      <th>Close</th>\n",
              "      <th>WAP</th>\n",
              "      <th>No. of Shares</th>\n",
              "      <th>No. of Trades</th>\n",
              "      <th>Total Turnover</th>\n",
              "      <th>Deliverable Quantity</th>\n",
              "      <th>% Deli. Qty to Traded Qty</th>\n",
              "      <th>Spread H-L</th>\n",
              "      <th>Spread C-O</th>\n",
              "    </tr>\n",
              "  </thead>\n",
              "  <tbody>\n",
              "    <tr>\n",
              "      <th>0</th>\n",
              "      <td>2020-01-31</td>\n",
              "      <td>2140.00</td>\n",
              "      <td>2145.00</td>\n",
              "      <td>2072.40</td>\n",
              "      <td>2079.30</td>\n",
              "      <td>2099.13</td>\n",
              "      <td>116613.0</td>\n",
              "      <td>8807.0</td>\n",
              "      <td>244786087.0</td>\n",
              "      <td>72785.0</td>\n",
              "      <td>62.42</td>\n",
              "      <td>72.60</td>\n",
              "      <td>-60.70</td>\n",
              "    </tr>\n",
              "    <tr>\n",
              "      <th>1</th>\n",
              "      <td>2020-01-30</td>\n",
              "      <td>2161.00</td>\n",
              "      <td>2165.45</td>\n",
              "      <td>2125.50</td>\n",
              "      <td>2138.05</td>\n",
              "      <td>2139.06</td>\n",
              "      <td>78850.0</td>\n",
              "      <td>5440.0</td>\n",
              "      <td>168664661.0</td>\n",
              "      <td>39695.0</td>\n",
              "      <td>50.34</td>\n",
              "      <td>39.95</td>\n",
              "      <td>-22.95</td>\n",
              "    </tr>\n",
              "    <tr>\n",
              "      <th>2</th>\n",
              "      <td>2020-01-29</td>\n",
              "      <td>2187.25</td>\n",
              "      <td>2187.60</td>\n",
              "      <td>2148.65</td>\n",
              "      <td>2152.70</td>\n",
              "      <td>2163.37</td>\n",
              "      <td>179971.0</td>\n",
              "      <td>6509.0</td>\n",
              "      <td>389344261.0</td>\n",
              "      <td>133020.0</td>\n",
              "      <td>73.91</td>\n",
              "      <td>38.95</td>\n",
              "      <td>-34.55</td>\n",
              "    </tr>\n",
              "    <tr>\n",
              "      <th>3</th>\n",
              "      <td>2020-01-28</td>\n",
              "      <td>2172.30</td>\n",
              "      <td>2187.15</td>\n",
              "      <td>2153.00</td>\n",
              "      <td>2184.05</td>\n",
              "      <td>2176.62</td>\n",
              "      <td>158542.0</td>\n",
              "      <td>6357.0</td>\n",
              "      <td>345085253.0</td>\n",
              "      <td>107494.0</td>\n",
              "      <td>67.80</td>\n",
              "      <td>34.15</td>\n",
              "      <td>11.75</td>\n",
              "    </tr>\n",
              "    <tr>\n",
              "      <th>4</th>\n",
              "      <td>2020-01-27</td>\n",
              "      <td>2180.00</td>\n",
              "      <td>2193.45</td>\n",
              "      <td>2165.00</td>\n",
              "      <td>2168.65</td>\n",
              "      <td>2170.90</td>\n",
              "      <td>69104.0</td>\n",
              "      <td>3329.0</td>\n",
              "      <td>150017602.0</td>\n",
              "      <td>43574.0</td>\n",
              "      <td>63.06</td>\n",
              "      <td>28.45</td>\n",
              "      <td>-11.35</td>\n",
              "    </tr>\n",
              "    <tr>\n",
              "      <th>...</th>\n",
              "      <td>...</td>\n",
              "      <td>...</td>\n",
              "      <td>...</td>\n",
              "      <td>...</td>\n",
              "      <td>...</td>\n",
              "      <td>...</td>\n",
              "      <td>...</td>\n",
              "      <td>...</td>\n",
              "      <td>...</td>\n",
              "      <td>...</td>\n",
              "      <td>...</td>\n",
              "      <td>...</td>\n",
              "      <td>...</td>\n",
              "    </tr>\n",
              "    <tr>\n",
              "      <th>263</th>\n",
              "      <td>2019-01-07</td>\n",
              "      <td>1891.10</td>\n",
              "      <td>1909.00</td>\n",
              "      <td>1880.25</td>\n",
              "      <td>1896.65</td>\n",
              "      <td>1894.04</td>\n",
              "      <td>98867.0</td>\n",
              "      <td>4087.0</td>\n",
              "      <td>187258096.0</td>\n",
              "      <td>31343.0</td>\n",
              "      <td>31.70</td>\n",
              "      <td>28.75</td>\n",
              "      <td>5.55</td>\n",
              "    </tr>\n",
              "    <tr>\n",
              "      <th>264</th>\n",
              "      <td>2019-01-04</td>\n",
              "      <td>1901.00</td>\n",
              "      <td>1901.05</td>\n",
              "      <td>1841.50</td>\n",
              "      <td>1873.95</td>\n",
              "      <td>1867.71</td>\n",
              "      <td>320877.0</td>\n",
              "      <td>12058.0</td>\n",
              "      <td>599305454.0</td>\n",
              "      <td>77748.0</td>\n",
              "      <td>24.23</td>\n",
              "      <td>59.55</td>\n",
              "      <td>-27.05</td>\n",
              "    </tr>\n",
              "    <tr>\n",
              "      <th>265</th>\n",
              "      <td>2019-01-03</td>\n",
              "      <td>1913.50</td>\n",
              "      <td>1944.00</td>\n",
              "      <td>1891.70</td>\n",
              "      <td>1896.45</td>\n",
              "      <td>1914.16</td>\n",
              "      <td>155018.0</td>\n",
              "      <td>5675.0</td>\n",
              "      <td>296729201.0</td>\n",
              "      <td>47656.0</td>\n",
              "      <td>30.74</td>\n",
              "      <td>52.30</td>\n",
              "      <td>-17.05</td>\n",
              "    </tr>\n",
              "    <tr>\n",
              "      <th>266</th>\n",
              "      <td>2019-01-02</td>\n",
              "      <td>1907.90</td>\n",
              "      <td>1933.00</td>\n",
              "      <td>1900.55</td>\n",
              "      <td>1923.15</td>\n",
              "      <td>1921.30</td>\n",
              "      <td>145042.0</td>\n",
              "      <td>5128.0</td>\n",
              "      <td>278669556.0</td>\n",
              "      <td>31796.0</td>\n",
              "      <td>21.92</td>\n",
              "      <td>32.45</td>\n",
              "      <td>15.25</td>\n",
              "    </tr>\n",
              "    <tr>\n",
              "      <th>267</th>\n",
              "      <td>2019-01-01</td>\n",
              "      <td>1905.00</td>\n",
              "      <td>1909.00</td>\n",
              "      <td>1885.10</td>\n",
              "      <td>1902.35</td>\n",
              "      <td>1899.90</td>\n",
              "      <td>144685.0</td>\n",
              "      <td>2800.0</td>\n",
              "      <td>274887129.0</td>\n",
              "      <td>90664.0</td>\n",
              "      <td>62.66</td>\n",
              "      <td>23.90</td>\n",
              "      <td>-2.65</td>\n",
              "    </tr>\n",
              "  </tbody>\n",
              "</table>\n",
              "<p>268 rows × 13 columns</p>\n",
              "</div>"
            ],
            "text/plain": [
              "           Date     Open  ...  Spread H-L  Spread C-O\n",
              "0    2020-01-31  2140.00  ...       72.60      -60.70\n",
              "1    2020-01-30  2161.00  ...       39.95      -22.95\n",
              "2    2020-01-29  2187.25  ...       38.95      -34.55\n",
              "3    2020-01-28  2172.30  ...       34.15       11.75\n",
              "4    2020-01-27  2180.00  ...       28.45      -11.35\n",
              "..          ...      ...  ...         ...         ...\n",
              "263  2019-01-07  1891.10  ...       28.75        5.55\n",
              "264  2019-01-04  1901.00  ...       59.55      -27.05\n",
              "265  2019-01-03  1913.50  ...       52.30      -17.05\n",
              "266  2019-01-02  1907.90  ...       32.45       15.25\n",
              "267  2019-01-01  1905.00  ...       23.90       -2.65\n",
              "\n",
              "[268 rows x 13 columns]"
            ]
          },
          "metadata": {
            "tags": []
          },
          "execution_count": 5
        }
      ]
    },
    {
      "cell_type": "code",
      "metadata": {
        "id": "oIy_1BhODwek",
        "colab_type": "code",
        "colab": {}
      },
      "source": [
        "t1=data.head(30).sort_values(by='Date', ascending=True)['Close']\n",
        "l1=t1.values.tolist()"
      ],
      "execution_count": 0,
      "outputs": []
    },
    {
      "cell_type": "code",
      "metadata": {
        "id": "L18h35Ujc4PI",
        "colab_type": "code",
        "colab": {
          "base_uri": "https://localhost:8080/",
          "height": 527
        },
        "outputId": "37a5b9fe-8903-4f6f-fa93-e74e39faf730"
      },
      "source": [
        "l1"
      ],
      "execution_count": 36,
      "outputs": [
        {
          "output_type": "execute_result",
          "data": {
            "text/plain": [
              "[2222.55,\n",
              " 2232.45,\n",
              " 2215.05,\n",
              " 2201.05,\n",
              " 2198.15,\n",
              " 2182.9,\n",
              " 2161.3,\n",
              " 2169.8,\n",
              " 2157.45,\n",
              " 2200.4,\n",
              " 2200.15,\n",
              " 2205.15,\n",
              " 2255.05,\n",
              " 2216.0,\n",
              " 2213.85,\n",
              " 2191.0,\n",
              " 2207.2,\n",
              " 2226.55,\n",
              " 2238.4,\n",
              " 2218.05,\n",
              " 2170.25,\n",
              " 2171.45,\n",
              " 2206.5,\n",
              " 2193.45,\n",
              " 2184.6,\n",
              " 2168.65,\n",
              " 2184.05,\n",
              " 2152.7,\n",
              " 2138.05,\n",
              " 2079.3]"
            ]
          },
          "metadata": {
            "tags": []
          },
          "execution_count": 36
        }
      ]
    },
    {
      "cell_type": "code",
      "metadata": {
        "id": "ExoCo93OI8-W",
        "colab_type": "code",
        "outputId": "313e0186-7adc-448e-f015-bdb436ebc7a3",
        "colab": {
          "base_uri": "https://localhost:8080/",
          "height": 302
        }
      },
      "source": [
        "x = range(0,30,1)\n",
        "#print(x)\n",
        "y = l1\n",
        "#print(y)\n",
        "#print(len(y))\n",
        "y1 = sma(y,4)\n",
        "print(y1)\n",
        "## Initialize the plot\n",
        "fig = plt.figure()\n",
        "ax1 = fig.add_subplot(121)\n",
        "ax2 = fig.add_subplot(122)\n",
        "ax1.plot(x,y)\n",
        "ax1.plot(x,y1)\n",
        "ax2.plot(x,y)\n",
        "ax2.invert_xaxis()\n",
        "plt.show()"
      ],
      "execution_count": 46,
      "outputs": [
        {
          "output_type": "stream",
          "text": [
            "[0, 0, 0, 2217.775, 2211.675, 2199.2875000000004, 2185.8500000000004, 2178.0375, 2167.8625, 2172.2375, 2181.95, 2190.7875000000004, 2215.1875, 2219.0875, 2222.5125000000003, 2218.9750000000004, 2207.0125, 2209.65, 2215.7875000000004, 2222.55, 2213.3125, 2199.5375, 2191.5625, 2185.4125, 2189.0, 2188.3, 2182.6875, 2172.5, 2160.8625, 2138.525]\n"
          ],
          "name": "stdout"
        },
        {
          "output_type": "display_data",
          "data": {
            "image/png": "[encoded data removed]",
            "text/plain": [
              "<Figure size 432x288 with 2 Axes>"
            ]
          },
          "metadata": {
            "tags": []
          }
        }
      ]
    },
    {
      "cell_type": "code",
      "metadata": {
        "id": "LJLRqo9WKWM_",
        "colab_type": "code",
        "colab": {
          "base_uri": "https://localhost:8080/",
          "height": 34
        },
        "outputId": "853a753b-fe68-4068-c09e-4d0a2f0d49a4"
      },
      "source": [
        "a = [1,3,5,7,8,9,6,34,3,2,1,5]\n",
        "\n",
        "\n",
        "\n",
        "sma(a,4)"
      ],
      "execution_count": 42,
      "outputs": [
        {
          "output_type": "execute_result",
          "data": {
            "text/plain": [
              "[0, 0, 0, 16, 23, 29, 30, 57, 52, 45, 40, 11]"
            ]
          },
          "metadata": {
            "tags": []
          },
          "execution_count": 42
        }
      ]
    },
    {
      "cell_type": "code",
      "metadata": {
        "id": "OWG--njk5av3",
        "colab_type": "code",
        "colab": {}
      },
      "source": [
        ""
      ],
      "execution_count": 0,
      "outputs": []
    },
    {
      "cell_type": "code",
      "metadata": {
        "id": "x-qH2OW2638y",
        "colab_type": "code",
        "colab": {}
      },
      "source": [
        ""
      ],
      "execution_count": 0,
      "outputs": []
    }
  ]
}